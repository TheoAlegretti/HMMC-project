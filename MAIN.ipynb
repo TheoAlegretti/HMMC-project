{
 "cells": [
  {
   "cell_type": "markdown",
   "id": "fae8cb38",
   "metadata": {},
   "source": [
    "# Importations"
   ]
  },
  {
   "cell_type": "code",
   "execution_count": 2,
   "id": "6297fa6f",
   "metadata": {},
   "outputs": [
    {
     "name": "stdout",
     "output_type": "stream",
     "text": [
      "ERROR: unknown command \"reinstall\" - maybe you meant \"install\"\n"
     ]
    }
   ],
   "source": [
    "#install packages needed \n",
    "!pip install matplotlib\n",
    "!pip install particles"
   ]
  },
  {
   "cell_type": "code",
   "execution_count": 1,
   "id": "a836eb58",
   "metadata": {},
   "outputs": [],
   "source": [
    "import matplotlib.pyplot as plt \n",
    "import numpy as np\n",
    "import seaborn as sb\n",
    "\n",
    "# Modules from particles\n",
    "import particles \n",
    "from particles import distributions as dists # Where proba distributions are defined\n",
    "from particles import state_space_models as ssm # Where state-space-models are defined\n",
    "from particles.collectors import Moments"
   ]
  },
  {
   "cell_type": "markdown",
   "id": "99c1669d",
   "metadata": {},
   "source": [
    "# Defining our model"
   ]
  },
  {
   "cell_type": "markdown",
   "id": "c913e461",
   "metadata": {},
   "source": [
    "Here, I try to define the model, that is the transition kernel (PX) and the emission law (PY). \n",
    "\n",
    "As of PX_0, I am not sure how it should be defined in our case. We are $simulating$ the data, thus it a choice of ours"
   ]
  },
  {
   "cell_type": "code",
   "execution_count": null,
   "id": "cef74edb",
   "metadata": {},
   "outputs": [],
   "source": [
    "class expression(ssm.StateSpaceModel):\n",
    "    \"\"\"\n",
    "    default_params = {\"eta\":, \"alpha\":, \"beta\":, \"beta_0\", \"gamma_u\":, \"gamma_d\":,\n",
    "                     \"zeta\":, \"lamba_u\":, \"lambda_d\": ,\n",
    "                     \"alpha_s\":, \"kappa_s\":}\n",
    "    \"\"\"\n",
    "    def PX0(self): # Distribution of X0 \n",
    "    \n",
    "    \n",
    "    # Transition kernel \n",
    "    def PX(self, t, xp): # Distribution of X_t given X_{t-1} = xp (p = past)\n",
    "        # Here, X involves two things: u_t (0th index) and s_t (1th index)\n",
    "        # Therefore, we have to define both \n",
    "        \n",
    "        # For u_t \n",
    "        \n",
    "        uni = dists.Uniform(a = 0, b = 1)# A uniform necessary for \"choosing\" between the different types of moves \n",
    "        if xp[:,0] ==0 :\n",
    "            if uni <= self.eta:\n",
    "                # Dirac on xp = 0 \n",
    "                u_t =  dists.Dirac(loc = 0)\n",
    "            else:\n",
    "                # Exponential law with rate zeta \n",
    "                u_t = dists.LinearD(dists.LogD(dists.Uniform(a = 0, b = 1)), a = - 1 / zeta)\n",
    "            \n",
    "        elif xp[:,0] !=0:\n",
    "            if uni <= alpha:\n",
    "                # Dirac on xp\n",
    "                u_t = dists.Dirac(loc = xp[:, 0])\n",
    "                \n",
    "            elif uni <= alpha + beta:\n",
    "                # Exponential law with rate zeta \n",
    "                u_t = dists.LinearD(dists.LogD(dists.Uniform(a = 0, b = 1)), a = - 1 / zeta)\n",
    "            \n",
    "            elif uni <= alpha + beta + beta_0:\n",
    "                # Dirac on 0\n",
    "                u_t = dists.Dirac(loc = 0)\n",
    "            \n",
    "            elif uni <= alpha + beta + beta_0 + gamma_u:\n",
    "                #\n",
    "                u_t = \n",
    "            \n",
    "            else:\n",
    "                #\n",
    "                u_t = \n",
    "                \n",
    "        #For s_t\n",
    "        uni_s = dists.Uniform(a = 0, b = 1)# A uniform necessary for \"choosing\" between the different types of moves \n",
    "        if uni_s <= alpha_s:\n",
    "            s_t = dists.Dirac(loc = xp[:,1])\n",
    "        else:\n",
    "            s_t = dists.Gamma(a = kappa_s, b = kappa_s)\n",
    "            \n",
    "        return IndeProd(u_t, s_t)\n",
    "\n",
    "            \n",
    "    # Emission model\n",
    "    def PY(self, t, xp, x): # Distribution of Y_t given X_t = x (and possibly X_{t-1} =xp)"
   ]
  },
  {
   "cell_type": "code",
   "execution_count": 16,
   "id": "9d43d8ba",
   "metadata": {},
   "outputs": [
    {
     "data": {
      "text/plain": [
       "[<matplotlib.lines.Line2D at 0x2318f01d8c8>]"
      ]
     },
     "execution_count": 16,
     "metadata": {},
     "output_type": "execute_result"
    },
    {
     "data": {
      "image/png": "[encoded data removed]",
      "text/plain": [
       "<Figure size 640x480 with 1 Axes>"
      ]
     },
     "metadata": {},
     "output_type": "display_data"
    }
   ],
   "source": [
    "# Test to check my definition of exponential law (implemented based on uniform distribution, given that the exponential law \n",
    "# does not seem to be implemented in particles )\n",
    "\n",
    "zeta = 2\n",
    "test = dists.LinearD(dists.LogD(dists.Uniform(a = 0, b = 1)), a = - 1 / zeta)\n",
    "\n",
    "from scipy.stats import expon\n",
    "plt.hist(test.rvs(size = 10000), bins = 100, density = True)\n",
    "x = np.linspace(0,5,10000)\n",
    "plt.plot(x, expon.pdf(x, scale = 1/zeta))"
   ]
  },
  {
   "cell_type": "code",
   "execution_count": 19,
   "id": "e88e8b97",
   "metadata": {},
   "outputs": [
    {
     "name": "stdout",
     "output_type": "stream",
     "text": [
      "Help on class Gamma in module particles.distributions:\n",
      "\n",
      "class Gamma(ProbDist)\n",
      " |  Gamma(a=1.0, b=1.0)\n",
      " |  \n",
      " |  Gamma(a,b) distribution, scale=1/b.\n",
      " |  \n",
      " |  Method resolution order:\n",
      " |      Gamma\n",
      " |      ProbDist\n",
      " |      builtins.object\n",
      " |  \n",
      " |  Methods defined here:\n",
      " |  \n",
      " |  __init__(self, a=1.0, b=1.0)\n",
      " |      Initialize self.  See help(type(self)) for accurate signature.\n",
      " |  \n",
      " |  logpdf(self, x)\n",
      " |  \n",
      " |  posterior(self, x)\n",
      " |      Model is X_1,...,X_n ~ N(0, 1/theta), theta ~ Gamma(a, b)\n",
      " |  \n",
      " |  ppf(self, u)\n",
      " |  \n",
      " |  rvs(self, size=None)\n",
      " |  \n",
      " |  ----------------------------------------------------------------------\n",
      " |  Methods inherited from ProbDist:\n",
      " |  \n",
      " |  pdf(self, x)\n",
      " |  \n",
      " |  shape(self, size)\n",
      " |  \n",
      " |  ----------------------------------------------------------------------\n",
      " |  Data descriptors inherited from ProbDist:\n",
      " |  \n",
      " |  __dict__\n",
      " |      dictionary for instance variables (if defined)\n",
      " |  \n",
      " |  __weakref__\n",
      " |      list of weak references to the object (if defined)\n",
      " |  \n",
      " |  ----------------------------------------------------------------------\n",
      " |  Data and other attributes inherited from ProbDist:\n",
      " |  \n",
      " |  dim = 1\n",
      " |  \n",
      " |  dtype = 'float64'\n",
      "\n"
     ]
    }
   ],
   "source": [
    "help(dists.Gamma)"
   ]
  }
 ],
 "metadata": {
  "kernelspec": {
   "display_name": "Python 3 (ipykernel)",
   "language": "python",
   "name": "python3"
  },
  "language_info": {
   "codemirror_mode": {
    "name": "ipython",
    "version": 3
   },
   "file_extension": ".py",
   "mimetype": "text/x-python",
   "name": "python",
   "nbconvert_exporter": "python",
   "pygments_lexer": "ipython3",
   "version": "3.7.4"
  }
 },
 "nbformat": 4,
 "nbformat_minor": 5
}
